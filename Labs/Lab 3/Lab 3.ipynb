{
 "cells": [
  {
   "cell_type": "markdown",
   "metadata": {},
   "source": [
    "# Lab Three\n",
    "---\n",
    "\n",
    "Ok for this lab we're going to reiterate a lot of the things that we went over in class.\n",
    "\n",
    "Our Goals are:\n",
    "- Understanding Variable Types\n",
    "- Defining Variables\n",
    "- Using Conditionals\n",
    "- Using Loops\n",
    "- Creating Objects\n",
    "- Writing a function\n"
   ]
  },
  {
   "cell_type": "markdown",
   "metadata": {},
   "source": [
    "## What's the difference between Null and undefined?"
   ]
  },
  {
   "cell_type": "markdown",
   "metadata": {},
   "source": [
    "Null is if the absent is intentional, like putting a zero. Undefined is if it just doesn't exist"
   ]
  },
  {
   "cell_type": "markdown",
   "metadata": {},
   "source": [
    "## List the 3 Variable Types and Use Them!"
   ]
  },
  {
   "cell_type": "code",
   "execution_count": null,
   "metadata": {},
   "outputs": [],
   "source": [
    "var myAge = \"18\""
   ]
  },
  {
   "cell_type": "markdown",
   "metadata": {},
   "source": [
    "## Use an If/Else If/Else Statement and a Switch Case statement"
   ]
  },
  {
   "cell_type": "code",
   "execution_count": null,
   "metadata": {},
   "outputs": [],
   "source": [
    "if (5=='5'){\n",
    "    console log(\"this worked\")\n",
    "}\n",
    "\n",
    "var starter = signs;\n",
    "switch (starter) {\n",
    "    case \"Taurus\":\n",
    "        console.log(\"Im a taurus\");\n",
    "        break;\n",
    "    case \"Capricorn\":\n",
    "        console.log(\"No way ypou follow signs? Im a Capricorn\");\n",
    "        break;\n",
    "    case \"Leo\":\n",
    "        console.log(\"signs are dope, im the same as my name, Leo\");\n",
    "        break;\n",
    "\n",
    "    default:\n",
    "        console.log(\"How wild are signs!\");\n",
    "        break;\n",
    "}"
   ]
  },
  {
   "cell_type": "markdown",
   "metadata": {},
   "source": [
    "## Use a For and a While Loop"
   ]
  },
  {
   "cell_type": "code",
   "execution_count": null,
   "metadata": {},
   "outputs": [],
   "source": [
    "for (var i = 0; i <= 5; i++) {\n",
    "    console.log(\"hello world\");\n",
    "\n",
    "\n",
    "\n",
    "\n",
    "\n",
    "    var stack = [1,2,3,]\n",
    "while (stack.length != 0) {\n",
    "    console.log(stack.pop());\n",
    "}\n",
    "\n",
    "\n",
    "\n",
    "\n",
    "\n"
   ]
  },
  {
   "cell_type": "markdown",
   "metadata": {},
   "source": [
    "## Make an object!"
   ]
  },
  {
   "cell_type": "code",
   "execution_count": null,
   "metadata": {},
   "outputs": [],
   "source": [
    "// Person\n",
    "let henryForeman = {\n",
    "    firstName: \"Henry\",\n",
    "    lastName:  \"Foreman\",\n",
    "    nicknames: [\"henny\", \"hendawg\", \"Sunburn\", \"Foreman grill\"],\n",
    "    age:       27\n",
    "}"
   ]
  },
  {
   "cell_type": "markdown",
   "metadata": {},
   "source": [
    "## Make a function, It can do anything!"
   ]
  },
  {
   "cell_type": "code",
   "execution_count": null,
   "metadata": {},
   "outputs": [],
   "source": [
    "function test() {\n",
    "    console.log(`Hello World`);\n",
    "}\n"
   ]
  },
  {
   "cell_type": "markdown",
   "metadata": {},
   "source": [
    "## Optional: Checkout HackerRank and try a problem in Javascript"
   ]
  }
 ],
 "metadata": {
  "kernelspec": {
   "display_name": "Python 3.8.6 64-bit",
   "metadata": {
    "interpreter": {
     "hash": "082e9a3bcad0a290d0001e938aa60b99250c6c2ef33a923c00b70f9826caf4b7"
    }
   },
   "name": "python3"
  },
  "language_info": {
   "file_extension": ".js",
   "mimetype": "application/javascript",
   "name": "javascript",
   "version": "3.8.6"
  },
  "orig_nbformat": 4
 },
 "nbformat": 4,
 "nbformat_minor": 2
}