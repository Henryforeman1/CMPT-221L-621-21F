{
 "cells": [
  {
   "cell_type": "markdown",
   "metadata": {},
   "source": [
    "# Lab Four\n",
    "---\n",
    "\n",
    "Ok for this lab we're going to complete our Iteration 0.\n",
    "\n",
    "Our Goals are:\n",
    "- Introduce the team\n",
    "- Define team meeting cadence, means of communication, and scheduled activities\n",
    "- Discuss means of documentation, and development\n",
    "- Create Design Specifications\n",
    "- Create Initial Backlog\n",
    "- Assign Roles (These will change since we want every one to be in every role at some point)\n"
   ]
  },
  {
   "cell_type": "markdown",
   "metadata": {},
   "source": [
    "## First things first, what's your initial idea for the project!? \n",
    "This is allowed to change and be altered but the alterations have to be approved by the shareholder! You can't just show up with a different product than you promised. That's the quickest way to not get paid! \n",
    "\n",
    "**When you have this also put it in the Slack channel that you'll make in the next step! I may not take the first idea. The channel with me will serve as a means to communicate with each other if you so choose as well as me!**"
   ]
  },
  {
   "cell_type": "markdown",
   "metadata": {},
   "source": [
    "Blog page loosely based off of Twitter, with our own spin on it, users can “sting” other users.\n"
   ]
  },
  {
   "cell_type": "markdown",
   "metadata": {},
   "source": [
    "## Once you have that come up with a team/company name! Make a slack channel with all the members of your team and Professor Kippins!\n",
    "\n",
    "The Stingers\n",
    "\n"
   ]
  },
  {
   "cell_type": "markdown",
   "metadata": {},
   "source": [
    "## How often are we meeting for Stand ups?\n",
    "\n"
   ]
  },
  {
   "cell_type": "markdown",
   "metadata": {},
   "source": [
    "Once a week\n"
   ]
  },
  {
   "cell_type": "markdown",
   "metadata": {},
   "source": [
    "## What is our iteration length? We're all locked into 2 week iterations (This ones a gimmie 😂) \n",
    "\n"
   ]
  },
  {
   "cell_type": "markdown",
   "metadata": {},
   "source": [
    "2 week iterations"
   ]
  },
  {
   "cell_type": "markdown",
   "metadata": {},
   "source": [
    "## What is our preferred means of communication? (Slack, Email, Text, Zoom call?)\n",
    "\n"
   ]
  },
  {
   "cell_type": "markdown",
   "metadata": {},
   "source": [
    "Text group chat"
   ]
  },
  {
   "cell_type": "markdown",
   "metadata": {},
   "source": [
    "## What means of communication do we want for Stand Ups?\n",
    "\n"
   ]
  },
  {
   "cell_type": "markdown",
   "metadata": {},
   "source": [
    "5-minute discord call\n"
   ]
  },
  {
   "cell_type": "markdown",
   "metadata": {},
   "source": [
    "## What means of communication do we want for Iteration Planning?\n",
    "\n"
   ]
  },
  {
   "cell_type": "markdown",
   "metadata": {},
   "source": [
    "Mostly planning over text, some in-person discussion\n"
   ]
  },
  {
   "cell_type": "markdown",
   "metadata": {},
   "source": [
    "## What means of communication do we want for Retrospectives?\n",
    "\n"
   ]
  },
  {
   "cell_type": "markdown",
   "metadata": {},
   "source": [
    "Half in person, Half through text"
   ]
  },
  {
   "cell_type": "markdown",
   "metadata": {},
   "source": [
    "# You need to have your project idea settled before you answer these!\n",
    "## Come up with your design specifications! What is your 1.0 release supposed to look like?\n",
    "\n"
   ]
  },
  {
   "cell_type": "markdown",
   "metadata": {},
   "source": [
    "Polished look, outlinks to users,  ability to log into the site, meshed view instead of homepage, dynamic elements from javascript,   "
   ]
  },
  {
   "cell_type": "markdown",
   "metadata": {},
   "source": [
    "## Come up with a way to manage and create an initial backlog of things to do. Put the link in your Slack Channel's description as well as here!\n",
    "\n"
   ]
  },
  {
   "cell_type": "markdown",
   "metadata": {},
   "source": [
    "https://github.com/AlphonseVotaIV/SoftwareDev2Group5/projects/1\n"
   ]
  },
  {
   "cell_type": "markdown",
   "metadata": {},
   "source": [
    "## What's everyone's starting role (Choose an IM and PO everyone else is Dev)"
   ]
  },
  {
   "cell_type": "markdown",
   "metadata": {},
   "source": [
    "Henry Foreman: Iteration Manager\n",
    "Michael Laffan: Developer\n",
    "Reed Percelay: Product Owner\n",
    "Alphonse Vota: Developer\n"
   ]
  }
 ],
 "metadata": {
  "interpreter": {
   "hash": "aee8b7b246df8f9039afb4144a1f6fd8d2ca17a180786b69acc140d282b71a49"
  },
  "kernelspec": {
   "display_name": "Python 3",
   "language": "python",
   "name": "python3"
  },
  "language_info": {
   "name": "javascript",
   "version": "3.8.5"
  },
  "orig_nbformat": 4
 },
 "nbformat": 4,
 "nbformat_minor": 2
}